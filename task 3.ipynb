{
  "nbformat": 4,
  "nbformat_minor": 0,
  "metadata": {
    "colab": {
      "provenance": [],
      "authorship_tag": "ABX9TyMguWG5rNu26Dpa9/qthAG6",
      "include_colab_link": true
    },
    "kernelspec": {
      "name": "python3",
      "display_name": "Python 3"
    },
    "language_info": {
      "name": "python"
    }
  },
  "cells": [
    {
      "cell_type": "markdown",
      "metadata": {
        "id": "view-in-github",
        "colab_type": "text"
      },
      "source": [
        "<a href=\"https://colab.research.google.com/github/vtu30628-shravan/Python/blob/main/task%203.ipynb\" target=\"_parent\"><img src=\"https://colab.research.google.com/assets/colab-badge.svg\" alt=\"Open In Colab\"/></a>"
      ]
    },
    {
      "cell_type": "code",
      "execution_count": 1,
      "metadata": {
        "colab": {
          "base_uri": "https://localhost:8080/"
        },
        "id": "xKgDxlJhe8HL",
        "outputId": "82e9375e-81a5-4322-9b0f-3f5f99155d14"
      },
      "outputs": [
        {
          "output_type": "stream",
          "name": "stdout",
          "text": [
            "Weather Report\n",
            "Date & Time: Saturday, 25 October 25, 03:50 AM\n",
            "Weather: Sunny\n"
          ]
        }
      ],
      "source": [
        "from datetime import datetime\n",
        "now = datetime.now()\n",
        "formatted_time = now.strftime(\"%A, %d %B %y, %I:%M %p\")\n",
        "print(\"Weather Report\")\n",
        "print(\"Date & Time:\", formatted_time)\n",
        "print(\"Weather: Sunny\")"
      ]
    },
    {
      "cell_type": "code",
      "source": [
        "# mymath.py\n",
        "\n",
        "def factorial(n):\n",
        "    fact = 1\n",
        "    for i in range(1, n + 1):\n",
        "        fact = fact * i\n",
        "    return fact\n",
        "\n",
        "def is_prime(n):\n",
        "    if n <= 1:\n",
        "        return False\n",
        "    for i in range(2, int(n**0.5) + 1):\n",
        "        if n % i == 0:\n",
        "            return False\n",
        "    return True\n",
        "\n",
        "#import mymath\n",
        "\n",
        "num = 5\n",
        "print(f\"Factorial of {num} is:\", factorial(num))\n",
        "\n",
        "check_num = 7\n",
        "print(f\"Is {check_num} prime?\", is_prime(check_num))"
      ],
      "metadata": {
        "colab": {
          "base_uri": "https://localhost:8080/"
        },
        "id": "dA6RJlX8fMNZ",
        "outputId": "f1f59d19-8af9-4aac-b9dc-27bd888d812c"
      },
      "execution_count": 6,
      "outputs": [
        {
          "output_type": "stream",
          "name": "stdout",
          "text": [
            "Factorial of 5 is: 120\n",
            "Is 7 prime? True\n"
          ]
        }
      ]
    }
  ]
}