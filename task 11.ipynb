{
  "nbformat": 4,
  "nbformat_minor": 0,
  "metadata": {
    "colab": {
      "provenance": [],
      "authorship_tag": "ABX9TyN4/qiVU3C6DyGjMS3gg1mu",
      "include_colab_link": true
    },
    "kernelspec": {
      "name": "python3",
      "display_name": "Python 3"
    },
    "language_info": {
      "name": "python"
    }
  },
  "cells": [
    {
      "cell_type": "markdown",
      "metadata": {
        "id": "view-in-github",
        "colab_type": "text"
      },
      "source": [
        "<a href=\"https://colab.research.google.com/github/vtu30628-shravan/Python/blob/main/task%2011.ipynb\" target=\"_parent\"><img src=\"https://colab.research.google.com/assets/colab-badge.svg\" alt=\"Open In Colab\"/></a>"
      ]
    },
    {
      "cell_type": "code",
      "source": [
        "from tkinter import *\n",
        "from tkinter import messagebox\n",
        "\n",
        "root = Tk()\n",
        "root.title('Form')\n",
        "\n",
        "Label(root, text='Name').pack()\n",
        "n = Entry(root)\n",
        "n.pack()\n",
        "\n",
        "Label(root, text='Roll No').pack()\n",
        "r = Entry(root)\n",
        "r.pack()\n",
        "\n",
        "def show():\n",
        "    name = n.get()\n",
        "    roll = r.get()\n",
        "    messagebox.showinfo(\"Student Details\",\n",
        "                        \"Name: \" + name + \"\\nRoll No: \" + roll)\n",
        "\n",
        "Button(root, text='Submit', command=show).pack()\n",
        "\n",
        "root.mainloop()"
      ],
      "metadata": {
        "id": "-BY4iBKfpJTv"
      },
      "execution_count": null,
      "outputs": []
    }
  ]
}