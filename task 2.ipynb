{
  "nbformat": 4,
  "nbformat_minor": 0,
  "metadata": {
    "colab": {
      "provenance": [],
      "authorship_tag": "ABX9TyPDc9FX/cNI3Tv527KoqE3A",
      "include_colab_link": true
    },
    "kernelspec": {
      "name": "python3",
      "display_name": "Python 3"
    },
    "language_info": {
      "name": "python"
    }
  },
  "cells": [
    {
      "cell_type": "markdown",
      "metadata": {
        "id": "view-in-github",
        "colab_type": "text"
      },
      "source": [
        "<a href=\"https://colab.research.google.com/github/vtu30628-shravan/Python/blob/main/task%202.ipynb\" target=\"_parent\"><img src=\"https://colab.research.google.com/assets/colab-badge.svg\" alt=\"Open In Colab\"/></a>"
      ]
    },
    {
      "cell_type": "code",
      "execution_count": 1,
      "metadata": {
        "colab": {
          "base_uri": "https://localhost:8080/"
        },
        "id": "rCRqDzcgdtLs",
        "outputId": "f5f57860-38d0-4b89-a136-5268d2300c79"
      },
      "outputs": [
        {
          "output_type": "stream",
          "name": "stdout",
          "text": [
            "Enter the room temperature: 24\n",
            "Comfortable\n"
          ]
        }
      ],
      "source": [
        "#temperature Alert system\n",
        "temperature = int(input(\"Enter the room temperature: \"))\n",
        "if temperature < 18:\n",
        "    print(\"Too cold\")\n",
        "elif 18 <= temperature <= 25:\n",
        "    print(\"Comfortable\")\n",
        "else:\n",
        "    print(\"Too Hot\")"
      ]
    },
    {
      "cell_type": "code",
      "source": [
        "#Password Retry system\n",
        "Correct_password= \"admin123\"\n",
        "attempts = 0\n",
        "while attempts < 3:\n",
        "    password = input(\"Enter password: \")\n",
        "    if password == Correct_password:\n",
        "        print(\"Access granted\")\n",
        "        break\n",
        "    else:\n",
        "        print(\"Incorrect password\")\n",
        "        attempts += 1\n",
        "if attempts == 3:\n",
        "    print(\"Access denied\")"
      ],
      "metadata": {
        "colab": {
          "base_uri": "https://localhost:8080/"
        },
        "id": "cO-4AftfeE6S",
        "outputId": "3993986c-c3ea-4854-b310-a348f7130452"
      },
      "execution_count": 5,
      "outputs": [
        {
          "output_type": "stream",
          "name": "stdout",
          "text": [
            "Enter password: admin123\n",
            "Access granted\n"
          ]
        }
      ]
    },
    {
      "cell_type": "code",
      "source": [
        "# Factorial Finder\n",
        "num = int(input(\"Enter a number: \"))\n",
        "factorial = 1\n",
        "for i in range(1, num + 1):\n",
        "    factorial *= i\n",
        "print(\"Factorial of\", num, \"is\", factorial)"
      ],
      "metadata": {
        "colab": {
          "base_uri": "https://localhost:8080/"
        },
        "id": "hKE8Ig9peoJo",
        "outputId": "dfba4e74-d50d-47cb-946a-ee01130c792e"
      },
      "execution_count": 6,
      "outputs": [
        {
          "output_type": "stream",
          "name": "stdout",
          "text": [
            "Enter a number: 5\n",
            "Factorial of 5 is 120\n"
          ]
        }
      ]
    }
  ]
}