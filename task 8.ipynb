{
  "nbformat": 4,
  "nbformat_minor": 0,
  "metadata": {
    "colab": {
      "provenance": [],
      "authorship_tag": "ABX9TyNLDd3Inzuk8ech53mOzUFI",
      "include_colab_link": true
    },
    "kernelspec": {
      "name": "python3",
      "display_name": "Python 3"
    },
    "language_info": {
      "name": "python"
    }
  },
  "cells": [
    {
      "cell_type": "markdown",
      "metadata": {
        "id": "view-in-github",
        "colab_type": "text"
      },
      "source": [
        "<a href=\"https://colab.research.google.com/github/vtu30628-shravan/Python/blob/main/task%208.ipynb\" target=\"_parent\"><img src=\"https://colab.research.google.com/assets/colab-badge.svg\" alt=\"Open In Colab\"/></a>"
      ]
    },
    {
      "cell_type": "code",
      "execution_count": 1,
      "metadata": {
        "colab": {
          "base_uri": "https://localhost:8080/"
        },
        "id": "xRf9exQ_mRgf",
        "outputId": "7c83e36e-0d32-4e15-9788-44ba1d95e9a6"
      },
      "outputs": [
        {
          "output_type": "stream",
          "name": "stdout",
          "text": [
            "Enter how many Fibonacci numbers to generate: 3\n",
            "Fibonacci sequence up to 3 terms:\n",
            "0 1 1 "
          ]
        }
      ],
      "source": [
        "# Fibonacci Sequence Generator using generator function\n",
        "\n",
        "def fibonacci(n):\n",
        "    a, b = 0, 1\n",
        "    count = 0\n",
        "    while count < n:\n",
        "        yield a\n",
        "        a, b = b, a + b\n",
        "        count += 1\n",
        "\n",
        "# Main program\n",
        "num = int(input(\"Enter how many Fibonacci numbers to generate: \"))\n",
        "\n",
        "print(f\"Fibonacci sequence up to {num} terms:\")\n",
        "for val in fibonacci(num):\n",
        "    print(val, end=\" \")"
      ]
    },
    {
      "cell_type": "code",
      "source": [
        "import time\n",
        "import random\n",
        "\n",
        "# Decorator to calculate execution time\n",
        "def timing_decorator(func):\n",
        "    def wrapper(*args, **kwargs):\n",
        "        start_time = time.time()\n",
        "        result = func(*args, **kwargs)\n",
        "        end_time = time.time()\n",
        "        print(f\"\\nExecution Time: {end_time - start_time:.6f} seconds\")\n",
        "        return result\n",
        "    return wrapper\n",
        "\n",
        "@timing_decorator\n",
        "def sort_random_numbers():\n",
        "    numbers = [random.randint(1, 1000) for _ in range(10000)]\n",
        "    print(\"Sorting 10,000 random numbers...\")\n",
        "    numbers.sort()\n",
        "    print(\"Sorting completed!\")\n",
        "\n",
        "# Main program\n",
        "sort_random_numbers()"
      ],
      "metadata": {
        "colab": {
          "base_uri": "https://localhost:8080/"
        },
        "id": "Ht_ciYJFmezv",
        "outputId": "e120d2be-c46f-4db9-b299-6819e3c1de0a"
      },
      "execution_count": 2,
      "outputs": [
        {
          "output_type": "stream",
          "name": "stdout",
          "text": [
            "Sorting 10,000 random numbers...\n",
            "Sorting completed!\n",
            "\n",
            "Execution Time: 0.008211 seconds\n"
          ]
        }
      ]
    }
  ]
}