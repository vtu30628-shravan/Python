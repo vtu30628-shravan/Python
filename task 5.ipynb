{
  "nbformat": 4,
  "nbformat_minor": 0,
  "metadata": {
    "colab": {
      "provenance": [],
      "authorship_tag": "ABX9TyM4mwFBOQUR8jmYUB3klLsX",
      "include_colab_link": true
    },
    "kernelspec": {
      "name": "python3",
      "display_name": "Python 3"
    },
    "language_info": {
      "name": "python"
    }
  },
  "cells": [
    {
      "cell_type": "markdown",
      "metadata": {
        "id": "view-in-github",
        "colab_type": "text"
      },
      "source": [
        "<a href=\"https://colab.research.google.com/github/vtu30628-shravan/Python/blob/main/task%205.ipynb\" target=\"_parent\"><img src=\"https://colab.research.google.com/assets/colab-badge.svg\" alt=\"Open In Colab\"/></a>"
      ]
    },
    {
      "cell_type": "code",
      "execution_count": 12,
      "metadata": {
        "colab": {
          "base_uri": "https://localhost:8080/"
        },
        "id": "4-l9pvj-hUlo",
        "outputId": "65050ff8-d2c7-4991-f3b7-d518b8f94410"
      },
      "outputs": [
        {
          "output_type": "stream",
          "name": "stdout",
          "text": [
            "Linear search Result:\n",
            "Book not found\n",
            "Binary search Result:\n",
            "Book found at position 2 in sorted list\n"
          ]
        }
      ],
      "source": [
        "def linear_search (books, key):\n",
        "    for i in range (len (books)):\n",
        "        if books [i] == key:\n",
        "            return i\n",
        "    return -1\n",
        "\n",
        "def binary_search (books, key):\n",
        "    low, high = 0, len (books)-1\n",
        "    while low <= high:\n",
        "        mid = (low + high)//2\n",
        "        if books[mid] == key:\n",
        "              return mid\n",
        "        elif books[mid] < key:\n",
        "            low = mid + 1\n",
        "        else:\n",
        "          high = mid - 1\n",
        "    return -1\n",
        "\n",
        "books = [\"Python\", \"C\", \"Java\", \"Data\", \"structures\", \"algorithms\"]\n",
        "search_book = \"Java\"\n",
        "print(\"Linear search Result:\")\n",
        "pos = linear_search(books, 'search_book')\n",
        "if pos != -1:\n",
        "    print(f\"Book found at position {pos}\")\n",
        "else:\n",
        "    print(\"Book not found\")\n",
        "print(\"Binary search Result:\")\n",
        "sorted_books = sorted(books)\n",
        "pos = binary_search(sorted_books,search_book)\n",
        "if pos != -1:\n",
        "  print(f\"Book found at position {pos} in sorted list\")\n",
        "else:\n",
        "  print(\"Book not found\")"
      ]
    },
    {
      "cell_type": "code",
      "source": [
        "def bubble_sort(arr):\n",
        "    n = len(arr)\n",
        "    for i in range(n-1):\n",
        "        for j in range(n-i-1):\n",
        "            if arr[j] > arr[j+1]:\n",
        "                arr[j], arr[j+1] = arr[j+1], arr[j]\n",
        "    return arr\n",
        "def selection_sort(arr):\n",
        "    n = len(arr)\n",
        "    for i in range(n):\n",
        "        # Find the maximum element in the unsorted array\n",
        "        max_idx = i\n",
        "        for j in range(i+1, n):\n",
        "            if arr[j] > arr[max_idx]:\n",
        "                max_idx = j\n",
        "        # Swap with the first element of the unsorted array\n",
        "        arr[i], arr[max_idx] = arr[max_idx], arr[i]\n",
        "    return arr\n",
        "# main\n",
        "grades = [85,92,75, 66,90, 58,99]\n",
        "print (\"original Grades:\", grades)\n",
        "# Bubble sort (Ascending)\n",
        "asc = bubble_sort (grades.copy())\n",
        "print (\"Ascending (Bubble sort):\", asc)\n",
        "# selection sort (Descending)\n",
        "desc = selection_sort (grades.copy())\n",
        "print (\"Descending (selection sort):\", desc)\n",
        "# Top 3 scores\n",
        "print (\"Top 3 scores:\", desc[:3])"
      ],
      "metadata": {
        "colab": {
          "base_uri": "https://localhost:8080/"
        },
        "id": "fV5uEn19iJZn",
        "outputId": "6e55596c-2811-498c-f73c-7e6b75649c84"
      },
      "execution_count": 13,
      "outputs": [
        {
          "output_type": "stream",
          "name": "stdout",
          "text": [
            "original Grades: [85, 92, 75, 66, 90, 58, 99]\n",
            "Ascending (Bubble sort): [58, 66, 75, 85, 90, 92, 99]\n",
            "Descending (selection sort): [99, 92, 90, 85, 75, 66, 58]\n",
            "Top 3 scores: [99, 92, 90]\n"
          ]
        }
      ]
    }
  ]
}