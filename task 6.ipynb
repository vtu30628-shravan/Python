{
  "nbformat": 4,
  "nbformat_minor": 0,
  "metadata": {
    "colab": {
      "provenance": [],
      "authorship_tag": "ABX9TyO/kRE+pIHNf6YHfbz4yxcn",
      "include_colab_link": true
    },
    "kernelspec": {
      "name": "python3",
      "display_name": "Python 3"
    },
    "language_info": {
      "name": "python"
    }
  },
  "cells": [
    {
      "cell_type": "markdown",
      "metadata": {
        "id": "view-in-github",
        "colab_type": "text"
      },
      "source": [
        "<a href=\"https://colab.research.google.com/github/vtu30628-shravan/Python/blob/main/task%206.ipynb\" target=\"_parent\"><img src=\"https://colab.research.google.com/assets/colab-badge.svg\" alt=\"Open In Colab\"/></a>"
      ]
    },
    {
      "cell_type": "code",
      "execution_count": 2,
      "metadata": {
        "colab": {
          "base_uri": "https://localhost:8080/"
        },
        "id": "65UuL6BtkxcE",
        "outputId": "90f4a2b9-3b7b-40d2-c41c-d203372fa537"
      },
      "outputs": [
        {
          "output_type": "stream",
          "name": "stdout",
          "text": [
            "students records:\n",
            "\n",
            "alice 95\n",
            "\n",
            "bob 90\n",
            "\n",
            "charle 85\n",
            "\n",
            "updated records: \n",
            "\n",
            "alice 95\n",
            "\n",
            "bob 90\n",
            "\n",
            "charle 85\n",
            "\n",
            "shadow 90\n",
            "\n",
            "jenny 80\n",
            "\n",
            "leo 75\n",
            "\n"
          ]
        }
      ],
      "source": [
        "f = open('students.txt', 'w')\n",
        "f.write('alice 95\\n')\n",
        "f.write('bob 90\\n')\n",
        "f.write('charle 85\\n')\n",
        "print('students records:\\n')\n",
        "f = open('students.txt','r')\n",
        "for i in f:\n",
        "  print(i)\n",
        "f = open('students.txt', 'a')\n",
        "f.write('shadow 90\\n')\n",
        "f.write('jenny 80\\n')\n",
        "f.write('leo 75\\n')\n",
        "print('updated records: \\n')\n",
        "f = open('students.txt','r')\n",
        "for i in f:\n",
        "  print(i)"
      ]
    },
    {
      "cell_type": "code",
      "source": [
        "f = open('Sample.txt', 'w')\n",
        "f.write('alice 95\\n')\n",
        "f.write('bob 90\\n')\n",
        "f.write('charlie 85\\n')\n",
        "f.write('shadow 90\\n')\n",
        "f.write('sunny 80\\n')\n",
        "f.write('leo 75\\n')\n",
        "\n",
        "f = open('Sample.txt', 'r')\n",
        "text = f.read()\n",
        "f.close()\n",
        "\n",
        "f = open('Sample.txt', 'r')\n",
        "lines = f.readlines()\n",
        "f.close()\n",
        "\n",
        "no_of_lines = len(lines)\n",
        "print('number of lines:', no_of_lines)\n",
        "\n",
        "no_of_words = len(text.split())\n",
        "print('number of words:', no_of_words)\n",
        "\n",
        "no_of_char = len(text)\n",
        "print ('number of characters:', no_of_char)\n",
        "words = text.split()\n",
        "for word in set (words):\n",
        "    print (word, ';', words.count (word))\n",
        "f.close()"
      ],
      "metadata": {
        "colab": {
          "base_uri": "https://localhost:8080/"
        },
        "id": "Ca1-0VhdlGXj",
        "outputId": "806752f2-4304-4651-f1f9-ef2af9f53649"
      },
      "execution_count": 5,
      "outputs": [
        {
          "output_type": "stream",
          "name": "stdout",
          "text": [
            "number of lines: 6\n",
            "number of words: 12\n",
            "number of characters: 53\n",
            "bob ; 1\n",
            "75 ; 1\n",
            "charlie ; 1\n",
            "85 ; 1\n",
            "90 ; 2\n",
            "95 ; 1\n",
            "leo ; 1\n",
            "sunny ; 1\n",
            "80 ; 1\n",
            "shadow ; 1\n",
            "alice ; 1\n"
          ]
        }
      ]
    }
  ]
}