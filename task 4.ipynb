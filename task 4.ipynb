{
  "nbformat": 4,
  "nbformat_minor": 0,
  "metadata": {
    "colab": {
      "provenance": [],
      "authorship_tag": "ABX9TyMtXhcwel00UN2huEiK02BD",
      "include_colab_link": true
    },
    "kernelspec": {
      "name": "python3",
      "display_name": "Python 3"
    },
    "language_info": {
      "name": "python"
    }
  },
  "cells": [
    {
      "cell_type": "markdown",
      "metadata": {
        "id": "view-in-github",
        "colab_type": "text"
      },
      "source": [
        "<a href=\"https://colab.research.google.com/github/vtu30628-shravan/Python/blob/main/task%204.ipynb\" target=\"_parent\"><img src=\"https://colab.research.google.com/assets/colab-badge.svg\" alt=\"Open In Colab\"/></a>"
      ]
    },
    {
      "cell_type": "code",
      "execution_count": 1,
      "metadata": {
        "colab": {
          "base_uri": "https://localhost:8080/"
        },
        "id": "Q-fF9_PPgP_-",
        "outputId": "5de32e4f-8623-4863-a3d5-9d88c3ec9bb2"
      },
      "outputs": [
        {
          "output_type": "stream",
          "name": "stdout",
          "text": [
            "Total Bill Amount: 715\n",
            "Highest Priced Item: 300\n",
            "Lowest Priced Item: 60\n"
          ]
        }
      ],
      "source": [
        "\n",
        "prices = [120, 85, 300, 150, 60]\n",
        "total_bill = sum(prices)\n",
        "highest_price = max(prices)\n",
        "lowest_price = min(prices)\n",
        "\n",
        "print(\"Total Bill Amount:\", total_bill)\n",
        "print(\"Highest Priced Item:\", highest_price)\n",
        "print(\"Lowest Priced Item:\", lowest_price)"
      ]
    },
    {
      "cell_type": "code",
      "source": [
        "\n",
        "students = [\n",
        "    (\"Rahul\", 456),\n",
        "    (\"Priya\", 390),\n",
        "    (\"Karan\", 420),\n",
        "    (\"Anita\", 470),\n",
        "    (\"Vijay\", 365)\n",
        "]\n",
        "\n",
        "highest_student = max(students, key=lambda x: x[1])\n",
        "print(\"Student with Highest marks:\", highest_student[0], highest_student[1])\n",
        "\n",
        "print(\"Students scoring above 400:\")\n",
        "for name, marks in students:\n",
        "    if marks > 400:\n",
        "        print(name, \"-\", marks)"
      ],
      "metadata": {
        "colab": {
          "base_uri": "https://localhost:8080/"
        },
        "id": "rQCq_eLfgnKd",
        "outputId": "fbe2612b-584b-4676-8f43-f1961952dccf"
      },
      "execution_count": 2,
      "outputs": [
        {
          "output_type": "stream",
          "name": "stdout",
          "text": [
            "Student with Highest marks: Anita 470\n",
            "Students scoring above 400:\n",
            "Rahul - 456\n",
            "Karan - 420\n",
            "Anita - 470\n"
          ]
        }
      ]
    },
    {
      "cell_type": "code",
      "source": [
        "countries = {\n",
        "    \"India\": \"New Delhi\",\n",
        "    \"France\": \"Paris\",\n",
        "    \"Japan\": \"Tokyo\"\n",
        "}\n",
        "\n",
        "new_country = input(\"Enter a new country:\")\n",
        "new_capital = input(\"Enter its capital:\")\n",
        "countries[new_country] = new_capital\n",
        "\n",
        "search_country = input(\"Enter country to find its capital:\")\n",
        "\n",
        "if search_country in countries:\n",
        "    print(\"capital of\", search_country, \"is\", countries[search_country])\n",
        "else:\n",
        "    print(\"Country not found!\")\n",
        "print (\"\\n country-capital pairs in alphabetical order:\")\n",
        "for country in sorted (countries):\n",
        "    print (country, \"-\", countries[country])"
      ],
      "metadata": {
        "colab": {
          "base_uri": "https://localhost:8080/"
        },
        "id": "UhV7tqqbgtls",
        "outputId": "e698f968-77d5-4c62-dff4-6d6905d4e02a"
      },
      "execution_count": 4,
      "outputs": [
        {
          "output_type": "stream",
          "name": "stdout",
          "text": [
            "Enter a new country:India\n",
            "Enter its capital:New Delhi\n",
            "Enter country to find its capital:France\n",
            "capital of France is Paris\n",
            "\n",
            " country-capital pairs in alphabetical order:\n",
            "France - Paris\n",
            "India - New Delhi\n",
            "Japan - Tokyo\n"
          ]
        }
      ]
    }
  ]
}