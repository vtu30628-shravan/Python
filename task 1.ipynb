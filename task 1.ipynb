{
  "nbformat": 4,
  "nbformat_minor": 0,
  "metadata": {
    "colab": {
      "provenance": [],
      "authorship_tag": "ABX9TyNprHlZvtacsVAhOrmtA1LK",
      "include_colab_link": true
    },
    "kernelspec": {
      "name": "python3",
      "display_name": "Python 3"
    },
    "language_info": {
      "name": "python"
    }
  },
  "cells": [
    {
      "cell_type": "markdown",
      "metadata": {
        "id": "view-in-github",
        "colab_type": "text"
      },
      "source": [
        "<a href=\"https://colab.research.google.com/github/vtu30628-shravan/Python/blob/main/task%201.ipynb\" target=\"_parent\"><img src=\"https://colab.research.google.com/assets/colab-badge.svg\" alt=\"Open In Colab\"/></a>"
      ]
    },
    {
      "cell_type": "code",
      "execution_count": 1,
      "metadata": {
        "colab": {
          "base_uri": "https://localhost:8080/"
        },
        "id": "rZN3I1RIagZd",
        "outputId": "4a4924f1-3f7a-42ff-cff0-90354942a23a"
      },
      "outputs": [
        {
          "output_type": "stream",
          "name": "stdout",
          "text": [
            "Enter first value: 5\n",
            "Enter second value: 7\n",
            "Addition: 12.0\n",
            "Subtraction: -2.0\n",
            "Multiplication: 35.0\n",
            "Division: 0.7142857142857143\n"
          ]
        }
      ],
      "source": [
        "num1 = float(input(\"Enter first value: \"))\n",
        "num2 = float(input(\"Enter second value: \"))\n",
        "print(\"Addition:\", num1 + num2)\n",
        "print(\"Subtraction:\", num1 - num2)\n",
        "print(\"Multiplication:\", num1 * num2)\n",
        "print(\"Division:\", num1 / num2)"
      ]
    },
    {
      "cell_type": "code",
      "source": [
        "a = float(input(\"Enter first score: \"))\n",
        "b = float(input(\"Enter second score: \"))\n",
        "print(\"a > b:\", a > b)\n",
        "print(\"a < b:\", a < b)\n",
        "print(\"a == b:\", a == b)\n",
        "print(\"a != b:\", a != b)\n",
        "print(\"a >= b:\", a >= b)\n",
        "print(\"a <= b:\", a <= b)"
      ],
      "metadata": {
        "colab": {
          "base_uri": "https://localhost:8080/"
        },
        "id": "VgKpTayObZAV",
        "outputId": "f76ab39e-5d8b-44ad-b8cb-1bfa1ff8753d"
      },
      "execution_count": 2,
      "outputs": [
        {
          "output_type": "stream",
          "name": "stdout",
          "text": [
            "Enter first score: 4.76\n",
            "Enter second score: 12.6\n",
            "a > b: False\n",
            "a < b: True\n",
            "a == b: False\n",
            "a != b: True\n",
            "a >= b: False\n",
            "a <= b: True\n"
          ]
        }
      ]
    },
    {
      "cell_type": "code",
      "source": [
        "\n",
        "test1 = int(input(\"Enter marks for Test 1: \"))\n",
        "test2 = int(input(\"Enter marks for Test 2: \"))\n",
        "test3 = int(input(\"Enter marks for Test 3: \"))\n",
        "print(\"Passed all tests: \", test1 > 40 and test2 > 40 and test3 > 40)\n",
        "print(\"Passed at least one test: \", test1 > 40 or test2 > 40 or test3 > 40)\n",
        "print(\"Failed all tests: \", not (test1 > 40 or test2 > 40 or test3 > 40))"
      ],
      "metadata": {
        "colab": {
          "base_uri": "https://localhost:8080/"
        },
        "id": "dzx7kzw3bixW",
        "outputId": "560cda27-1cbe-486c-d1a1-8bf7229aea0f"
      },
      "execution_count": 3,
      "outputs": [
        {
          "output_type": "stream",
          "name": "stdout",
          "text": [
            "Enter marks for Test 1: 23\n",
            "Enter marks for Test 2: 75\n",
            "Enter marks for Test 3: 98\n",
            "Passed all tests:  False\n",
            "Passed at least one test:  True\n",
            "Failed all tests:  False\n"
          ]
        }
      ]
    }
  ]
}