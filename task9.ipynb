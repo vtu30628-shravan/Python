{
  "nbformat": 4,
  "nbformat_minor": 0,
  "metadata": {
    "colab": {
      "provenance": [],
      "authorship_tag": "ABX9TyPsF5p+TCcao5tKuEOhTQJT",
      "include_colab_link": true
    },
    "kernelspec": {
      "name": "python3",
      "display_name": "Python 3"
    },
    "language_info": {
      "name": "python"
    }
  },
  "cells": [
    {
      "cell_type": "markdown",
      "metadata": {
        "id": "view-in-github",
        "colab_type": "text"
      },
      "source": [
        "<a href=\"https://colab.research.google.com/github/vtu30628-shravan/Python/blob/main/task9.ipynb\" target=\"_parent\"><img src=\"https://colab.research.google.com/assets/colab-badge.svg\" alt=\"Open In Colab\"/></a>"
      ]
    },
    {
      "cell_type": "code",
      "execution_count": 1,
      "metadata": {
        "colab": {
          "base_uri": "https://localhost:8080/"
        },
        "id": "hV8Ybf9wmutc",
        "outputId": "793b6b8a-37f7-46cc-f0af-3fe6ec15698d"
      },
      "outputs": [
        {
          "output_type": "stream",
          "name": "stdout",
          "text": [
            "Enter student marks (0–100): 78\n",
            "Marks accepted: 78.0\n"
          ]
        }
      ],
      "source": [
        "# Student Marks Validation with Exception Handling\n",
        "\n",
        "def validate_marks():\n",
        "    try:\n",
        "        marks = float(input(\"Enter student marks (0–100): \"))\n",
        "        if marks < 0 or marks > 100:\n",
        "            raise ValueError(\"Marks must be between 0 and 100!\")\n",
        "        print(f\"Marks accepted: {marks}\")\n",
        "    except ValueError as e:\n",
        "        print(\"Error:\", e)\n",
        "\n",
        "# Main program\n",
        "validate_marks()"
      ]
    },
    {
      "cell_type": "code",
      "source": [
        "# Division Calculator with Exception Handling\n",
        "\n",
        "def divide_numbers():\n",
        "    try:\n",
        "        num1 = float(input(\"Enter numerator: \"))\n",
        "        num2 = float(input(\"Enter denominator: \"))\n",
        "        result = num1 / num2\n",
        "        print(f\"Result = {result}\")\n",
        "    except ZeroDivisionError:\n",
        "        print(\"Error: Division by zero is not allowed!\")\n",
        "    except ValueError:\n",
        "        print(\"Error: Please enter valid numbers only!\")\n",
        "\n",
        "# Main program\n",
        "divide_numbers()"
      ],
      "metadata": {
        "colab": {
          "base_uri": "https://localhost:8080/"
        },
        "id": "RAIg8L1anA4w",
        "outputId": "c9a90231-1443-4683-b259-41c99ac3edf7"
      },
      "execution_count": 2,
      "outputs": [
        {
          "output_type": "stream",
          "name": "stdout",
          "text": [
            "Enter numerator: 87.9\n",
            "Enter denominator: 5\n",
            "Result = 17.580000000000002\n"
          ]
        }
      ]
    }
  ]
}